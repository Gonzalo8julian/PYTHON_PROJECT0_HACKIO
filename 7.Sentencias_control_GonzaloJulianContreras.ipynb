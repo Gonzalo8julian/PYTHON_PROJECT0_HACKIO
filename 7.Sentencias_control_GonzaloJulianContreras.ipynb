{
 "cells": [
  {
   "cell_type": "markdown",
   "metadata": {},
   "source": [
    "<div style=\"text-align: center;\">\n",
    "  <img src=\"https://github.com/Hack-io-Data/Imagenes/blob/main/01-LogosHackio/logo_celeste@4x.png?raw=true\" alt=\"logo hack(io)\" />\n",
    "</div>"
   ]
  },
  {
   "cell_type": "markdown",
   "metadata": {},
   "source": [
    "#### 1. Escribe un programa que determine si un número es par o impar.\n",
    "\n"
   ]
  },
  {
   "cell_type": "code",
   "execution_count": 9,
   "metadata": {},
   "outputs": [
    {
     "name": "stdout",
     "output_type": "stream",
     "text": [
      "El número 5 es impar\n"
     ]
    }
   ],
   "source": [
    "numero = int(input(\"Escribe un número para saber si es par o impar\"))\n",
    "\n",
    "if numero % 2 == 0:\n",
    "    print(f\"El número {numero} es par\")\n",
    "\n",
    "else: print(f\"El número {numero} es impar\")"
   ]
  },
  {
   "cell_type": "markdown",
   "metadata": {},
   "source": [
    "#### 2. Genera un programa que nos diga si es de noche, de día o tarde según la hora proporcionada por el usuario."
   ]
  },
  {
   "cell_type": "code",
   "execution_count": 34,
   "metadata": {},
   "outputs": [
    {
     "name": "stdout",
     "output_type": "stream",
     "text": [
      "22\n",
      "Es de noche\n"
     ]
    }
   ],
   "source": [
    "hora = int(input(\"Escribe una hora en formato 24h (0-23) para saber si es de día o de noche\"))\n",
    "print(hora)\n",
    "\n",
    "if hora >=6 and hora <=21:\n",
    "    print(\"Es de día\")\n",
    "\n",
    "else:\n",
    "    print(\"Es de noche\")"
   ]
  },
  {
   "cell_type": "markdown",
   "metadata": {},
   "source": [
    "#### 3. Dado un nombre imprime un saludo personalizado."
   ]
  },
  {
   "cell_type": "code",
   "execution_count": 49,
   "metadata": {},
   "outputs": [
    {
     "name": "stdout",
     "output_type": "stream",
     "text": [
      "¡Hola hola, ¿qué tal estás?\n"
     ]
    }
   ],
   "source": [
    "nombre = input(\"Escribe tu nombre :)\")\n",
    "\n",
    "if nombre:\n",
    "    print(f\"¡Hola {nombre}, ¿qué tal estás?\")\n",
    "\n",
    "else:\n",
    "    print(\"Por favor, escribe un nombre correcto para poder saludarte\")"
   ]
  },
  {
   "cell_type": "markdown",
   "metadata": {},
   "source": [
    "#### 4. Escribe un programa que determine qué calificación en texto tiene un alumno en base a su calificación numérica. Las reglas de calificación son: \n",
    "\n",
    "- 0 - 69 insuficiente\n",
    "\n",
    "- 70 - 79 bien\n",
    "\n",
    "- 80 - 89 muy bien\n",
    "\n",
    "- 90 - 100 excelente\n"
   ]
  },
  {
   "cell_type": "code",
   "execution_count": 59,
   "metadata": {},
   "outputs": [
    {
     "name": "stdout",
     "output_type": "stream",
     "text": [
      "Nota: 89\n",
      "Tu nota es un muy bien\n"
     ]
    }
   ],
   "source": [
    "calificacion = int(input(\"Escribe tu nota aquí:\"))\n",
    "print(f\"Nota: {calificacion}\")\n",
    "\n",
    "if calificacion >=0 and calificacion <= 69:\n",
    "    print(f\"Tu nota es un insuficiente\")\n",
    "\n",
    "elif calificacion >= 70 and calificacion <= 79:\n",
    "    print(f\"Tu nota es un bien\")\n",
    "\n",
    "elif calificacion >= 80 and calificacion <= 89:\n",
    "    print(f\"Tu nota es un muy bien\")\n",
    "\n",
    "else:\n",
    "    print(\"Tu nota es un excelente\")\n",
    "    "
   ]
  },
  {
   "cell_type": "markdown",
   "metadata": {},
   "source": [
    "#### 5. Escribe un programa que imprima el día de la semana, dado un número del 1 al 7.\n"
   ]
  },
  {
   "cell_type": "code",
   "execution_count": 69,
   "metadata": {},
   "outputs": [
    {
     "name": "stdout",
     "output_type": "stream",
     "text": [
      "Viernes\n"
     ]
    }
   ],
   "source": [
    "dia = int(input(\"Escribe un número del 1 al 7 para saber qué día de la semana es\"))\n",
    "\n",
    "if dia == 1:\n",
    "    print(\"Lunes\")\n",
    "\n",
    "elif dia == 2:\n",
    "    print(\"Martes\")\n",
    "\n",
    "elif dia == 3:\n",
    "    print(\"Miércoles\")\n",
    "\n",
    "elif dia == 4:\n",
    "    print(\"Jueves\")\n",
    "\n",
    "elif dia == 5:\n",
    "    print(\"Viernes\")\n",
    "\n",
    "elif dia == 6:\n",
    "    print(\"Sábado\")\n",
    "\n",
    "elif dia == 7:\n",
    "    print(\"Domingo\")\n",
    "\n",
    "elif dia >= 8:\n",
    "    print(\"Por favor, escribe un número entre el 1 y el 7\")\n",
    "\n",
    "else:\n",
    "    print(\"Por favor, escribe un número entre el 1 y el 7\")"
   ]
  },
  {
   "cell_type": "markdown",
   "metadata": {},
   "source": [
    "#### 6. Escribe un programa que determine si un número es positivo, negativo o cero."
   ]
  },
  {
   "cell_type": "code",
   "execution_count": 76,
   "metadata": {},
   "outputs": [
    {
     "name": "stdout",
     "output_type": "stream",
     "text": [
      "El número 1 es positivo\n"
     ]
    }
   ],
   "source": [
    "numero = int(input(\"Escribe un número\"))\n",
    "\n",
    "if numero < 0:\n",
    "    print(f\"El número {numero} es negativo\")\n",
    "\n",
    "elif numero == 0:\n",
    "    print(f\"El número {numero} es cero\")\n",
    "\n",
    "else:\n",
    "    print(f\"El número {numero} es positivo\")"
   ]
  },
  {
   "cell_type": "markdown",
   "metadata": {},
   "source": [
    "#### 7. Escribe un programa que determine si una persona puede conducir o no. La edad mínima para conducir es 18 años. \n"
   ]
  },
  {
   "cell_type": "code",
   "execution_count": 79,
   "metadata": {},
   "outputs": [
    {
     "name": "stdout",
     "output_type": "stream",
     "text": [
      "Como tienes 30 años sí puedes conducir\n"
     ]
    }
   ],
   "source": [
    "edad = int(input(\"Escribe tu edad para saber si puedes conducir\"))\n",
    "\n",
    "if edad <=17:\n",
    "    print(f\"Como tienes {edad} años no puedes conducir\")\n",
    "\n",
    "else:\n",
    "    print(f\"Como tienes {edad} años sí puedes conducir\")"
   ]
  },
  {
   "cell_type": "markdown",
   "metadata": {},
   "source": [
    "#### 8. Escribe un programa que determine si un estudiante aprobó o suspendió un examen."
   ]
  },
  {
   "cell_type": "code",
   "execution_count": 95,
   "metadata": {},
   "outputs": [
    {
     "name": "stdout",
     "output_type": "stream",
     "text": [
      "Tu nota es un 7 y, por lo tanto, has aprobado el examen\n"
     ]
    }
   ],
   "source": [
    "nota = int(input(\"Escribe tu nota de 0 a 10 que has sacado en el examen\"))\n",
    "\n",
    "if nota < 5:\n",
    "    print(f\"Tu nota es un {nota} y, por lo tanto, has suspendido el examen\")\n",
    "\n",
    "elif nota >= 5 and nota <=10:\n",
    "    print(f\"Tu nota es un {nota} y, por lo tanto, has aprobado el examen\")\n",
    "\n",
    "elif nota >= 11:\n",
    "    print(\"Por favor, selecciona una nota entre 0 y 10 para poder calificarla\")\n",
    "\n",
    "else:\n",
    "     print(\"Por favor, selecciona una nota entre 0 y 10 para poder calificarla\")"
   ]
  },
  {
   "cell_type": "markdown",
   "metadata": {},
   "source": [
    "#### 9. Escribe un programa que determine si un número es múltiplo de 3 y 5.\n"
   ]
  },
  {
   "cell_type": "code",
   "execution_count": 104,
   "metadata": {},
   "outputs": [
    {
     "name": "stdout",
     "output_type": "stream",
     "text": [
      "El número 12 solo es múltimpo de 3\n"
     ]
    }
   ],
   "source": [
    "numero = int(input(\"Escribe un número para saber si es múltiplo de 3 y de 5\"))\n",
    "\n",
    "if numero % 3 == 0 and numero % 5 == 0:\n",
    "    print(f\"El número {numero} es múltiplo de 3 y 5\")\n",
    "\n",
    "elif numero % 3 == 0:\n",
    "    print(f\"El número {numero} solo es múltimpo de 3\")\n",
    "\n",
    "elif numero %5 == 0:\n",
    "    print(f\"El número {numero} solo es múltiplo de 5\")\n",
    "\n",
    "else:\n",
    "    print(f\"El número {numero} NO es múltiplo ni de 3 ni de 5\")"
   ]
  },
  {
   "cell_type": "markdown",
   "metadata": {},
   "source": [
    "#### 10. Escribe un programa que determine si un número es par o impar.\n"
   ]
  },
  {
   "cell_type": "code",
   "execution_count": 106,
   "metadata": {},
   "outputs": [
    {
     "name": "stdout",
     "output_type": "stream",
     "text": [
      "El número 5 es impar\n"
     ]
    }
   ],
   "source": [
    "numero = int(input(\"Escribe un número para saber si es par o impar\"))\n",
    "\n",
    "if numero % 2 == 0:\n",
    "    print(f\"El número {numero} es par\")\n",
    "\n",
    "else: print(f\"El número {numero} es impar\")"
   ]
  }
 ],
 "metadata": {
  "kernelspec": {
   "display_name": "hackio",
   "language": "python",
   "name": "python3"
  },
  "language_info": {
   "codemirror_mode": {
    "name": "ipython",
    "version": 3
   },
   "file_extension": ".py",
   "mimetype": "text/x-python",
   "name": "python",
   "nbconvert_exporter": "python",
   "pygments_lexer": "ipython3",
   "version": "3.9.6"
  }
 },
 "nbformat": 4,
 "nbformat_minor": 2
}
