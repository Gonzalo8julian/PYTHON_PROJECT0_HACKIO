{
 "cells": [
  {
   "cell_type": "markdown",
   "metadata": {},
   "source": [
    "<div style=\"text-align: center;\">\n",
    "  <img src=\"https://github.com/Hack-io-Data/Imagenes/blob/main/01-LogosHackio/logo_celeste@4x.png?raw=true\" alt=\"logo hack(io)\" />\n",
    "</div>"
   ]
  },
  {
   "cell_type": "markdown",
   "metadata": {},
   "source": [
    "####  1. Genera una lista de números del 0 al 4 y luego imprime cada número en la lista usando un `bucle for`. "
   ]
  },
  {
   "cell_type": "code",
   "execution_count": 3,
   "metadata": {},
   "outputs": [
    {
     "name": "stdout",
     "output_type": "stream",
     "text": [
      "0\n",
      "1\n",
      "2\n",
      "3\n",
      "4\n"
     ]
    }
   ],
   "source": [
    "numeros = [0, 1, 2, 3, 4]\n",
    "\n",
    "for numeros in numeros:\n",
    "    print(numeros)"
   ]
  },
  {
   "cell_type": "markdown",
   "metadata": {},
   "source": [
    "#### 2. Itera sobre una lista de frutas y muestra cada fruta en mayúsculas. \n"
   ]
  },
  {
   "cell_type": "code",
   "execution_count": 15,
   "metadata": {},
   "outputs": [
    {
     "name": "stdout",
     "output_type": "stream",
     "text": [
      "MANZANA\n",
      "PERA\n",
      "NARANJA\n",
      "SANDÍA\n",
      "MELÓN\n"
     ]
    }
   ],
   "source": [
    "frutas = [\"manzana\", \"pera\", \"naranja\", \"sandía\", \"melón\"]\n",
    "\n",
    "for i in frutas:\n",
    "    print(i.upper())\n"
   ]
  },
  {
   "cell_type": "markdown",
   "metadata": {},
   "source": [
    "####  3. Genera un bucle while que imprima los números del 0 al 4. \n"
   ]
  },
  {
   "cell_type": "code",
   "execution_count": 26,
   "metadata": {},
   "outputs": [
    {
     "name": "stdout",
     "output_type": "stream",
     "text": [
      "4\n",
      "3\n",
      "2\n",
      "1\n",
      "0\n"
     ]
    }
   ],
   "source": [
    "contador = 4\n",
    "\n",
    "while contador >= 0:\n",
    "    print(contador)\n",
    "    contador -= 1"
   ]
  },
  {
   "cell_type": "markdown",
   "metadata": {},
   "source": [
    "#### 4. Genera un bucle del 0 al 9, pero que se detenga en el 5.\n"
   ]
  },
  {
   "cell_type": "code",
   "execution_count": 96,
   "metadata": {},
   "outputs": [
    {
     "name": "stdout",
     "output_type": "stream",
     "text": [
      "0\n",
      "1\n",
      "2\n",
      "3\n",
      "4\n",
      "5\n"
     ]
    }
   ],
   "source": [
    "for numero in range(10):\n",
    "    if numero <= 5:\n",
    "        print(numero)\n"
   ]
  },
  {
   "cell_type": "code",
   "execution_count": 27,
   "metadata": {},
   "outputs": [
    {
     "name": "stdout",
     "output_type": "stream",
     "text": [
      "0\n",
      "1\n",
      "2\n",
      "3\n",
      "4\n",
      "5\n"
     ]
    }
   ],
   "source": [
    "contador = 0\n",
    "\n",
    "while contador <= 5:\n",
    "    print(contador)\n",
    "    contador += 1"
   ]
  },
  {
   "cell_type": "markdown",
   "metadata": {},
   "source": [
    "#### 5. Recorre los números del 0 al 9 e imprime solo los números impares."
   ]
  },
  {
   "cell_type": "code",
   "execution_count": 30,
   "metadata": {},
   "outputs": [
    {
     "name": "stdout",
     "output_type": "stream",
     "text": [
      "1\n",
      "3\n",
      "5\n",
      "7\n",
      "9\n"
     ]
    }
   ],
   "source": [
    "for numeros in range(1,10,2):\n",
    "    print(numeros)"
   ]
  },
  {
   "cell_type": "markdown",
   "metadata": {},
   "source": [
    "#### 6. Dada la lista `[10, 20, 30, 40, 50]`, calcula la suma de todos los elementos usando un bucle `for`."
   ]
  },
  {
   "cell_type": "code",
   "execution_count": 43,
   "metadata": {},
   "outputs": [
    {
     "name": "stdout",
     "output_type": "stream",
     "text": [
      "La suma total de todos los elementos es 150\n"
     ]
    }
   ],
   "source": [
    "lista = [10, 20, 30, 40, 50]\n",
    "\n",
    "suma = 0\n",
    "\n",
    "for i in lista:\n",
    "    suma += i\n",
    "\n",
    "          \n",
    "print(f\"La suma total de todos los elementos es {suma}\")"
   ]
  },
  {
   "cell_type": "markdown",
   "metadata": {},
   "source": [
    "#### 7. Dada la cadena `\"Hola mundo\"`, cuenta cuántas veces aparecen las vocales (`a`, `e`, `i`, `o`, `u`) usando un bucle `for`.\n"
   ]
  },
  {
   "cell_type": "code",
   "execution_count": 84,
   "metadata": {},
   "outputs": [
    {
     "name": "stdout",
     "output_type": "stream",
     "text": [
      "El número total de vocales es: 4\n"
     ]
    }
   ],
   "source": [
    "cadena = \"Hola mundo\"\n",
    "vocales = \"aeiou\"\n",
    "numero_vocales = 0\n",
    "\n",
    "for letra in cadena:\n",
    "    if letra in vocales:\n",
    "        numero_vocales += 1\n",
    "\n",
    "print(f\"El número total de vocales es: {numero_vocales}\")"
   ]
  },
  {
   "cell_type": "markdown",
   "metadata": {},
   "source": [
    "#### 8. Dada la cadena `\"Python\"`, usa un bucle `for` para imprimir los caracteres en orden inverso (`n`, `o`, `h`, `t`, `y`, `P`).\n"
   ]
  },
  {
   "cell_type": "code",
   "execution_count": 97,
   "metadata": {},
   "outputs": [
    {
     "name": "stdout",
     "output_type": "stream",
     "text": [
      "n\n",
      "o\n",
      "h\n",
      "t\n",
      "y\n",
      "P\n"
     ]
    }
   ],
   "source": [
    "# Cadena dada\n",
    "cadena = \"Python\"\n",
    "\n",
    "# Bucle for para imprimir los caracteres en orden inverso\n",
    "for i in range(len(cadena) - 1, -1, -1):\n",
    "    print(cadena[i])\n",
    "\n"
   ]
  },
  {
   "cell_type": "code",
   "execution_count": 103,
   "metadata": {},
   "outputs": [
    {
     "name": "stdout",
     "output_type": "stream",
     "text": [
      "n\n",
      "o\n",
      "h\n",
      "t\n",
      "y\n",
      "P\n"
     ]
    },
    {
     "data": {
      "text/plain": [
       "['P', 'y', 't', 'h', 'o', 'n']"
      ]
     },
     "execution_count": 103,
     "metadata": {},
     "output_type": "execute_result"
    }
   ],
   "source": [
    "cadena = \"Python\"\n",
    "lista = list(cadena)\n",
    "\n",
    "for i in range(len(cadena)-1,-1,-1):\n",
    "    print(cadena[i])\n",
    "\n",
    "lista"
   ]
  },
  {
   "cell_type": "markdown",
   "metadata": {},
   "source": [
    "#### 9. Dada la lista `[1, 2, 3, 4, 5]`, multiplica todos sus elementos usando un bucle `for` y almacena los resultados en una lista nueva. \n"
   ]
  },
  {
   "cell_type": "code",
   "execution_count": 48,
   "metadata": {},
   "outputs": [
    {
     "data": {
      "text/plain": [
       "[1, 4, 9, 16, 25]"
      ]
     },
     "execution_count": 48,
     "metadata": {},
     "output_type": "execute_result"
    }
   ],
   "source": [
    "lista = [1, 2, 3, 4, 5]\n",
    "\n",
    "lista_multiplicada = []\n",
    "\n",
    "for numero in lista:\n",
    "    multiplicacion = numero * numero\n",
    "    lista_multiplicada.append(multiplicacion)\n",
    "\n",
    "lista_multiplicada"
   ]
  },
  {
   "cell_type": "markdown",
   "metadata": {},
   "source": [
    "#### 10. Dada la lista `[1, 2, 3, 4, 5, 6, 7, 8, 9, 10]`, utiliza un bucle `for` para contar cuántos números son pares y cuántos son impares."
   ]
  },
  {
   "cell_type": "code",
   "execution_count": 69,
   "metadata": {},
   "outputs": [
    {
     "name": "stdout",
     "output_type": "stream",
     "text": [
      "El número total de números pares es 5\n",
      "El número total de números impares es 6\n"
     ]
    }
   ],
   "source": [
    "lista = [1, 2, 3, 4, 5, 6, 7, 8, 9, 10]\n",
    "\n",
    "pares = 0\n",
    "impares = 1\n",
    "\n",
    "for numeros in lista:\n",
    "    if numeros %2 == 0:\n",
    "        pares += 1\n",
    "    else:\n",
    "        impares += 1\n",
    "\n",
    "\n",
    "print(f\"El número total de números pares es {pares}\")\n",
    "print(f\"El número total de números impares es {impares}\")"
   ]
  },
  {
   "cell_type": "markdown",
   "metadata": {},
   "source": [
    "#### 11. Escribe un programa que solicite al usuario un número entero positivo (`n`) y calcule la suma de todos los números primos menores o iguales a `n`. Utiliza un bucle `for` para iterar sobre cada número y verifica si es primo."
   ]
  },
  {
   "cell_type": "code",
   "execution_count": 83,
   "metadata": {},
   "outputs": [
    {
     "name": "stdout",
     "output_type": "stream",
     "text": [
      "Los números primos menores iguales a 11 son [2, 3, 5, 7, 11]\n",
      "La suma de todos los números primos menores o iguales a 11 es 28\n"
     ]
    }
   ],
   "source": [
    "n = int(input(\"Escribe un número entero positivo:\"))\n",
    "\n",
    "lista_primos = []\n",
    "\n",
    "for n in range(0,n+1):\n",
    "        if n <= 1:\n",
    "                False\n",
    "        elif n <= 3:\n",
    "                True\n",
    "                lista_primos.append(n)\n",
    "        elif n % 2 == 0:\n",
    "                False\n",
    "        elif n % 3 == 0:\n",
    "                False\n",
    "        else:\n",
    "                lista_primos.append(n)\n",
    "\n",
    "print(f\"Los números primos menores iguales a {n} son {lista_primos}\")\n",
    "\n",
    "suma = 0\n",
    "for i in lista_primos:\n",
    "        suma += i\n",
    "\n",
    "print(f\"La suma de todos los números primos menores o iguales a {n} es {suma}\")\n",
    "    \n",
    "    "
   ]
  },
  {
   "cell_type": "markdown",
   "metadata": {},
   "source": [
    "#### 12. Escribe un programa que solicite al usuario un número entero positivo (`n`) y luego imprima un patrón de asteriscos como el siguiente ejemplo para `n = 5`:\n",
    "```\n",
    "*\n",
    "**\n",
    "***\n",
    "****\n",
    "*****\n",
    "```\n",
    "Utiliza un bucle `for` anidado para controlar la cantidad de asteriscos en cada línea."
   ]
  },
  {
   "cell_type": "code",
   "execution_count": 4,
   "metadata": {},
   "outputs": [
    {
     "name": "stdout",
     "output_type": "stream",
     "text": [
      "*\n",
      "**\n",
      "***\n",
      "****\n",
      "*****\n"
     ]
    }
   ],
   "source": [
    "n = int(input(\"Escribe un número entero positivo:\"))\n",
    "\n",
    "for i in range(1, n+1):\n",
    "    for k in range(i):\n",
    "        print('*', end='')\n",
    "    print()"
   ]
  },
  {
   "cell_type": "markdown",
   "metadata": {},
   "source": [
    "#### 13. Dado un texto, utiliza un bucle `for` para contar cuántas veces aparece cada palabra en el texto. Ignora mayúsculas/minúsculas y los signos de puntuación."
   ]
  },
  {
   "cell_type": "code",
   "execution_count": 91,
   "metadata": {},
   "outputs": [
    {
     "name": "stdout",
     "output_type": "stream",
     "text": [
      "{'hola': 1, 'que': 1, 'tal': 1, 'esto': 1, 'es': 1, 'una': 1, 'prueba': 1}\n"
     ]
    }
   ],
   "source": [
    "texto = input('Escribe una frase para saber cuántas veces aparece cada palabra en el texto')\n",
    "palabras = texto.split()\n",
    "contador_palabras = {}\n",
    "\n",
    "for i in palabras:\n",
    "    if i in contador_palabras:\n",
    "        contador_palabras[i] += 1\n",
    "    else:\n",
    "        contador_palabras[i] = 1\n",
    "\n",
    "print(contador_palabras)"
   ]
  },
  {
   "cell_type": "markdown",
   "metadata": {},
   "source": [
    "#### 14. Escribe un programa que solicite al usuario dos números enteros positivos (`inicio` y `fin`, donde `inicio <= fin`) y luego calcule la suma de los números pares y la suma de los números impares en ese rango. Utiliza un bucle `for` para iterar sobre cada número y una estructura `if-else` para clasificar y sumar los números pares e impares."
   ]
  },
  {
   "cell_type": "code",
   "execution_count": 22,
   "metadata": {},
   "outputs": [
    {
     "name": "stdout",
     "output_type": "stream",
     "text": [
      "La suma de los números pares entre 0 y 5 es 6\n",
      "La suma de los números impares entre 0 y 5 es 9\n"
     ]
    }
   ],
   "source": [
    "inicio = int(input(\"Escribe un número entero positivo:\"))\n",
    "fin = int(input(\"Ahora escribe otro número entero positivo que sea igual o mayor que el anterior\"))\n",
    "\n",
    "pares = 0\n",
    "impares = 0\n",
    "\n",
    "for i in range(inicio, fin +1):\n",
    "    if i %2 == 0:\n",
    "     pares += i\n",
    "    else:\n",
    "     impares += i\n",
    "\n",
    "print(f\"La suma de los números pares entre {inicio} y {fin} es {pares}\")\n",
    "print(f\"La suma de los números impares entre {inicio} y {fin} es {impares}\")"
   ]
  },
  {
   "cell_type": "markdown",
   "metadata": {},
   "source": [
    "#### 15. Escribe un programa que solicite al usuario un número entero positivo (`n`) y luego identifique todos los números primos menores o iguales a `n`. Para cada número, imprime si es primo o no usando un bucle `for` y una estructura `if-else` para verificar la condición de primalidad."
   ]
  },
  {
   "cell_type": "code",
   "execution_count": 69,
   "metadata": {},
   "outputs": [
    {
     "name": "stdout",
     "output_type": "stream",
     "text": [
      "El número 0 no es pirmo\n",
      "El número 1 no es pirmo\n",
      "El número 2 es primo\n",
      "El número 3 es primo\n",
      "El número 4 no es pirmo\n",
      "El número 5 es primo\n"
     ]
    }
   ],
   "source": [
    "n = int(input(f\"Escribe un número positivo entero:\"))\n",
    "\n",
    "for i in range (0,n+1):\n",
    "    if i <= 1: \n",
    "        False\n",
    "        print(f\"El número {i} no es pirmo\" )\n",
    "    elif i <= 3:\n",
    "        True\n",
    "        print(f\"El número {i} es primo\")\n",
    "    elif i % 2 == 0:\n",
    "        False\n",
    "        print(f\"El número {i} no es pirmo\" )\n",
    "    elif i % 3 == 0:\n",
    "        False\n",
    "        print(f\"El número {i} no es pirmo\" )\n",
    "    else:\n",
    "        print(f\"El número {i} es primo\")\n"
   ]
  },
  {
   "cell_type": "markdown",
   "metadata": {},
   "source": [
    "#### 16.Dada una lista de precios `[100, 200, 300, 400, 500]`, aplica un descuento del 10% a todos los precios mayores a `250`. Imprime la lista actualizada de precios después de aplicar el descuento utilizando un bucle `for`. "
   ]
  },
  {
   "cell_type": "code",
   "execution_count": 97,
   "metadata": {},
   "outputs": [
    {
     "data": {
      "text/plain": [
       "[100, 200, 270.0, 360.0, 450.0]"
      ]
     },
     "execution_count": 97,
     "metadata": {},
     "output_type": "execute_result"
    }
   ],
   "source": [
    "lista_precios = [100, 200, 300, 400, 500]\n",
    "lista_descuento = []\n",
    "\n",
    "for i in lista_precios:\n",
    "    if i > 250:\n",
    "        i *= 0.90\n",
    "        lista_descuento.append(i)\n",
    "    else:\n",
    "        lista_descuento.append(i)\n",
    "        \n",
    "lista_descuento"
   ]
  },
  {
   "cell_type": "markdown",
   "metadata": {},
   "source": [
    "#### 17. Dada una lista de calificaciones de estudiantes `[85, 92, 78, 90, 88]`, clasifica a cada estudiante como \"Aprobado\" si la calificación es mayor o igual a `80` y como \"Reprobado\" si es menor a `80`. Imprime el nombre de cada estudiante junto con su estado utilizando un bucle `for` y una estructura `if-else`.\n"
   ]
  },
  {
   "cell_type": "code",
   "execution_count": 99,
   "metadata": {},
   "outputs": [
    {
     "name": "stdout",
     "output_type": "stream",
     "text": [
      "El estudiante con nota 85 es Aprobado\n",
      "El estudiante con nota 92 es Aprobado\n",
      "El estudiante con nota 78 es Reprobado\n",
      "El estudiante con nota 90 es Aprobado\n",
      "El estudiante con nota 88 es Aprobado\n"
     ]
    }
   ],
   "source": [
    "lista_estudiantes = [85, 92, 78, 90, 88]\n",
    "\n",
    "for i in lista_estudiantes:\n",
    "    if i >= 80:\n",
    "        print(f\"El estudiante con nota {i} es Aprobado\")\n",
    "    else:\n",
    "        print(f\"El estudiante con nota {i} es Reprobado\")"
   ]
  },
  {
   "cell_type": "markdown",
   "metadata": {},
   "source": [
    "\n",
    "#### 18. Escribe un programa que solicite al usuario dos números enteros positivos (`inicio`, `fin`) y otro número entero positivo (`divisor`). Encuentra el número más grande en el rango desde `inicio` hasta `fin` que sea divisible por `divisor`. Utiliza un bucle `for` y una estructura `if-else` para verificar y mantener el registro del número más grande divisible por el divisor dado.\n"
   ]
  },
  {
   "cell_type": "code",
   "execution_count": 114,
   "metadata": {},
   "outputs": [
    {
     "name": "stdout",
     "output_type": "stream",
     "text": [
      "No hay números en el rango de 0 y 10 que sean divisibles por 2 \n"
     ]
    }
   ],
   "source": [
    "inicio = int(input(\"Escribe un número entero positivo:\"))\n",
    "fin = int(input(\"Escribe otro número entero positivo:\"))\n",
    "divisor = int(input(\"Escribe un tercer número entero positivo:\"))\n",
    "\n",
    "mas_grande = None\n",
    "\n",
    "for i in range(inicio, fin+1):\n",
    "    if i % divisor == 0:\n",
    "        True\n",
    "    else:\n",
    "        False\n",
    "\n",
    "if i == True:\n",
    "    print(f\"El número más grande en el rango entre {inicio} y {fin} y que sea divisible por {divisor} es {i}\")\n",
    "else:\n",
    "    print(f\"No hay números en el rango de {inicio} y {fin} que sean divisibles por {divisor} \")"
   ]
  }
 ],
 "metadata": {
  "kernelspec": {
   "display_name": "hackio",
   "language": "python",
   "name": "python3"
  },
  "language_info": {
   "codemirror_mode": {
    "name": "ipython",
    "version": 3
   },
   "file_extension": ".py",
   "mimetype": "text/x-python",
   "name": "python",
   "nbconvert_exporter": "python",
   "pygments_lexer": "ipython3",
   "version": "3.9.6"
  }
 },
 "nbformat": 4,
 "nbformat_minor": 2
}
