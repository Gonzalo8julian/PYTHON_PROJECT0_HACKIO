{
 "cells": [
  {
   "cell_type": "markdown",
   "metadata": {},
   "source": [
    "\n",
    "<div style=\"text-align: center;\">\n",
    "  <img src=\"https://github.com/Hack-io-Data/Imagenes/blob/main/01-LogosHackio/logo_celeste@4x.png?raw=true\" alt=\"esquema\" />\n",
    "</div>"
   ]
  },
  {
   "cell_type": "markdown",
   "metadata": {},
   "source": [
    "#### 1. Escribe una función sin parámetros que imprima el siguiente mensaje \"¡Hola! Bienvenido.\"\n"
   ]
  },
  {
   "cell_type": "code",
   "execution_count": 1,
   "metadata": {},
   "outputs": [],
   "source": [
    "def funcion_sin_parametro():\n",
    "    \"\"\"Genera un a función para mostrar un mensaje.\n",
    "\n",
    "    Params: funcion_sin_parametro(): el texto que queramos mostrar\n",
    "\n",
    "    Returns: El texto que queramos mostrar.\n",
    "    \"\"\"\n",
    "    print(\"¡Hola! Bienvenido.\")"
   ]
  },
  {
   "cell_type": "code",
   "execution_count": 2,
   "metadata": {},
   "outputs": [
    {
     "name": "stdout",
     "output_type": "stream",
     "text": [
      "¡Hola! Bienvenido.\n"
     ]
    }
   ],
   "source": [
    "funcion_sin_parametro()"
   ]
  },
  {
   "cell_type": "markdown",
   "metadata": {},
   "source": [
    "#### 2. Escribe una función que reciba dos parámetros y devuelva la suma de ambos.\n"
   ]
  },
  {
   "cell_type": "code",
   "execution_count": 5,
   "metadata": {},
   "outputs": [],
   "source": [
    "def suma(numero1, numero2):\n",
    "    \"\"\"Función que recibe dos parámetros y devuelve la suma de ambos.\n",
    "\n",
    "    Args:\n",
    "        numero1 (int): El número 1 que queramos sumar\n",
    "        numero2 (int): El número 2 que queamos sumar\n",
    "\n",
    "    Returns:\n",
    "        int: Número total resultado de sumar número 1 + número 2\n",
    "    \"\"\"\n",
    "    total = numero1 + numero2\n",
    "    return total"
   ]
  },
  {
   "cell_type": "code",
   "execution_count": 6,
   "metadata": {},
   "outputs": [
    {
     "data": {
      "text/plain": [
       "7"
      ]
     },
     "execution_count": 6,
     "metadata": {},
     "output_type": "execute_result"
    }
   ],
   "source": [
    "num1 = 2\n",
    "num2 = 5\n",
    "\n",
    "suma(num1, num2)"
   ]
  },
  {
   "cell_type": "markdown",
   "metadata": {},
   "source": [
    "#### 3. Escribe una función que reciba un número y devuelva True si es par, False si no lo es."
   ]
  },
  {
   "cell_type": "code",
   "execution_count": 8,
   "metadata": {},
   "outputs": [],
   "source": [
    "def numero_par(n):\n",
    "    \"\"\"Función que recibe un número n y devuelve un booleano para saber si es par o no.\n",
    "\n",
    "    Args:\n",
    "        n (int): Número que queremos saber si es par o no.\n",
    "\n",
    "    Returns:\n",
    "        Booleano: True o False en funcón de si el número es par o no.\n",
    "    \"\"\"\n",
    "    if n %2 == 0:\n",
    "        return True\n",
    "    else:\n",
    "        return False"
   ]
  },
  {
   "cell_type": "code",
   "execution_count": 11,
   "metadata": {},
   "outputs": [
    {
     "data": {
      "text/plain": [
       "True"
      ]
     },
     "execution_count": 11,
     "metadata": {},
     "output_type": "execute_result"
    }
   ],
   "source": [
    "n = int(input(\"Introduce un número para saber si es par o no:\"))\n",
    "\n",
    "numero_par(n)"
   ]
  },
  {
   "cell_type": "markdown",
   "metadata": {},
   "source": [
    "#### 4. Escribe un función que devuelva un saludo personalizado a una persona dado su nombre. \n"
   ]
  },
  {
   "cell_type": "code",
   "execution_count": 1,
   "metadata": {},
   "outputs": [],
   "source": [
    "def saludo(nombre):\n",
    "    \"\"\"Función que devuelve un saludo personalizado a una persona que nos da su nombre.\n",
    "\n",
    "    Args:\n",
    "        nombre (str): Nombre de la persona para la que queremos generar un saludo personalizado.\n",
    "\n",
    "    Returns:\n",
    "        str: Una frase personalizada con el nombre que nos dan.\n",
    "    \"\"\"\n",
    "    print(f\"¡Hola {nombre}! Bienvenido :)\")"
   ]
  },
  {
   "cell_type": "code",
   "execution_count": 15,
   "metadata": {},
   "outputs": [
    {
     "name": "stdout",
     "output_type": "stream",
     "text": [
      "¡Hola Gonzalo! Bienvenido :)\n"
     ]
    }
   ],
   "source": [
    "nombre = input(\"Escribe tu nombre\")\n",
    "\n",
    "saludo(nombre)"
   ]
  },
  {
   "cell_type": "markdown",
   "metadata": {},
   "source": [
    "#### 5. Escribe una función que sume todos los números que reciba como argumento. La función debe recibir una cantidad variable de argumentos y devolver la suma de todos ellos."
   ]
  },
  {
   "cell_type": "code",
   "execution_count": 18,
   "metadata": {},
   "outputs": [],
   "source": [
    "def suma(*numero):\n",
    "    \"\"\"Función que suma todos los números que recibe como argumento.\n",
    "\n",
    "    Returns:\n",
    "        int: Suma de todos los números dados.\n",
    "    \"\"\"\n",
    "    total = sum(numero)\n",
    "    return total"
   ]
  },
  {
   "cell_type": "code",
   "execution_count": 20,
   "metadata": {},
   "outputs": [
    {
     "data": {
      "text/plain": [
       "28"
      ]
     },
     "execution_count": 20,
     "metadata": {},
     "output_type": "execute_result"
    }
   ],
   "source": [
    "suma(1, 2, 3, 4, 5, 6, 7)"
   ]
  },
  {
   "cell_type": "markdown",
   "metadata": {},
   "source": [
    "#### 6. Escribe una función que cuente las letras de una palabra y devuelva un diccionario con la cantidad de veces que se repite cada letra \n"
   ]
  },
  {
   "cell_type": "code",
   "execution_count": 55,
   "metadata": {},
   "outputs": [],
   "source": [
    "def sumar_letras(palabra):\n",
    "    \"\"\"Función que cuenta las letras de una palabra y devuelve un diccionario con la cantidad de veces que se repite cada letra.\n",
    "\n",
    "    Args:\n",
    "        palabra (str): Palabra dada pra contar sus letras\n",
    "\n",
    "    Returns:\n",
    "        dicc: Diccionario dividiendo cada letra de la palabra y el conteo de las veces que aparecen las letras.\n",
    "    \"\"\"\n",
    "    diccionario_letras = {}\n",
    "\n",
    "    for i in palabra:\n",
    "        if i in diccionario_letras:\n",
    "            diccionario_letras[i] += 1\n",
    "        else:\n",
    "            diccionario_letras[i] = 1\n",
    "\n",
    "    return diccionario_letras"
   ]
  },
  {
   "cell_type": "code",
   "execution_count": 56,
   "metadata": {},
   "outputs": [
    {
     "data": {
      "text/plain": [
       "{'E': 1,\n",
       " 's': 2,\n",
       " 't': 2,\n",
       " 'e': 3,\n",
       " 'r': 1,\n",
       " 'n': 1,\n",
       " 'o': 4,\n",
       " 'c': 1,\n",
       " 'l': 1,\n",
       " 'i': 2,\n",
       " 'd': 2,\n",
       " 'm': 1,\n",
       " 'a': 1}"
      ]
     },
     "execution_count": 56,
     "metadata": {},
     "output_type": "execute_result"
    }
   ],
   "source": [
    "palabra = \"Esternocleidomastoideo\"\n",
    "\n",
    "sumar_letras(palabra)"
   ]
  },
  {
   "cell_type": "markdown",
   "metadata": {},
   "source": [
    "#### 7. Escribe un función recursiva para calcular el factorial de un número entero no negativo."
   ]
  },
  {
   "cell_type": "code",
   "execution_count": 65,
   "metadata": {},
   "outputs": [],
   "source": [
    "def factorial (n):\n",
    "    \"\"\"Función para calcular el factorial de un número entero no negativo, es decir, la multiplicación de ese número y todos los anteriores multiplicados por ellos mismos hasta 1.\n",
    "\n",
    "    Args:\n",
    "        n (int): Número dado para calcular su factorial.\n",
    "    \"\"\"\n",
    "    multiplicacion = n * n\n",
    "    print(f\"{n}x{n} = {multiplicacion}\")\n",
    "\n",
    "    if n > 1:\n",
    "        factorial (n-1)"
   ]
  },
  {
   "cell_type": "code",
   "execution_count": 69,
   "metadata": {},
   "outputs": [
    {
     "name": "stdout",
     "output_type": "stream",
     "text": [
      "5x5 = 25\n",
      "4x4 = 16\n",
      "3x3 = 9\n",
      "2x2 = 4\n",
      "1x1 = 1\n"
     ]
    }
   ],
   "source": [
    "n = int(input(\"Escribe un número entero positivo\"))\n",
    "\n",
    "factorial (n)"
   ]
  },
  {
   "cell_type": "markdown",
   "metadata": {},
   "source": [
    "#### 8. Escribe una función que tome dos parámetros: `figura` (una cadena que puede ser `\"rectangulo\"`, `\"circulo\"` o `\"triangulo\"`) y `datos` (una tupla con los datos necesarios para calcular el área de la figura). "
   ]
  },
  {
   "cell_type": "code",
   "execution_count": 49,
   "metadata": {},
   "outputs": [],
   "source": [
    "def area(figura,datos):\n",
    "    \"\"\"Función que toma dos parámetros y que devuelve el cálculo del area del parámetro figura.\n",
    "\n",
    "    Args:\n",
    "        figura (str): Figura de la que queremos calcular el área (rectángulo, círculo o triángulo)\n",
    "        datos (int): Datos necesarios para calcular el área de un rectángulo, círculo o triángulo.\n",
    "    \"\"\"\n",
    "    if figura == \"rectángulo\":\n",
    "        len(datos) == 2\n",
    "        largo, ancho = datos\n",
    "        area = largo * ancho\n",
    "\n",
    "    elif figura == \"triángulo\":\n",
    "        len(datos) == 2\n",
    "        base, altura = datos\n",
    "        area = (base * altura) / 2\n",
    "\n",
    "    elif figura == \"círculo\":\n",
    "        len(figura) == 1\n",
    "        radio = datos\n",
    "        area = 3.141592653589793 * radio ** 2\n",
    "\n",
    "    else: \n",
    "        pass\n",
    "\n",
    "    print (f\" El area del {figura} es {area}\")"
   ]
  },
  {
   "cell_type": "code",
   "execution_count": 29,
   "metadata": {},
   "outputs": [
    {
     "name": "stdout",
     "output_type": "stream",
     "text": [
      " El area del triángulo es 4.0\n"
     ]
    }
   ],
   "source": [
    "figura = \"triángulo\"\n",
    "datos = (2, 4)\n",
    "area(\"triángulo\", datos)"
   ]
  },
  {
   "cell_type": "code",
   "execution_count": 50,
   "metadata": {},
   "outputs": [
    {
     "name": "stdout",
     "output_type": "stream",
     "text": [
      " El area del círculo es 12.566370614359172\n"
     ]
    }
   ],
   "source": [
    "figura = \"círculo\"\n",
    "datos = (2)\n",
    "\n",
    "area(\"círculo\", datos)"
   ]
  },
  {
   "cell_type": "code",
   "execution_count": 51,
   "metadata": {},
   "outputs": [
    {
     "name": "stdout",
     "output_type": "stream",
     "text": [
      " El area del rectángulo es 8\n"
     ]
    }
   ],
   "source": [
    "figura = \"rectángulo\"\n",
    "datos = (2, 4)\n",
    "\n",
    "area(\"rectángulo\", datos)"
   ]
  },
  {
   "cell_type": "markdown",
   "metadata": {},
   "source": [
    "#### 9. Escribe una función que tome una lista de números como parámetro y devuelva el número más grande de la lista. No utilices la función `max()` de Python en tu solución."
   ]
  },
  {
   "cell_type": "code",
   "execution_count": 58,
   "metadata": {},
   "outputs": [],
   "source": [
    "def numero_mas_grande(lista_numeros):\n",
    "    \"\"\"Función que toma una lista de números y devuelve el número más grande sin utilizar la función max()\n",
    "\n",
    "    Args:\n",
    "        lista_numeros (list): Lista de números para calcular cuál es el más grande\n",
    "\n",
    "    Returns:\n",
    "        int: El valor del número más grande de la lista.\n",
    "    \"\"\"\n",
    "\n",
    "    #Buscamos el primer número de la lista para tenerlo como referencia:\n",
    "    numero_mayor = lista_numeros[0]\n",
    "\n",
    "    for n in lista_numeros:\n",
    "        if n > numero_mayor:\n",
    "            numero_mayor = n\n",
    "        else:\n",
    "            numero_mayor\n",
    "    return print(f\"El número más grande de la lista dada es {numero_mayor}\")"
   ]
  },
  {
   "cell_type": "code",
   "execution_count": 59,
   "metadata": {},
   "outputs": [
    {
     "name": "stdout",
     "output_type": "stream",
     "text": [
      "El número más grande de la lista dada es 100\n"
     ]
    }
   ],
   "source": [
    "lista_numeros = [2,4,5,6,2,100,42,89]\n",
    "\n",
    "numero_mas_grande(lista_numeros)"
   ]
  },
  {
   "cell_type": "markdown",
   "metadata": {},
   "source": [
    "#### 10. Escribe una función que tome una cadena como parámetro un texto y devuelva `True` si la cadena es un palíndromo (se lee igual de izquierda a derecha que de derecha a izquierda), y `False` en caso contrario. Ignora los espacios y considera mayúsculas y minúsculas de manera insensible.\n"
   ]
  },
  {
   "cell_type": "code",
   "execution_count": 107,
   "metadata": {},
   "outputs": [],
   "source": [
    "def palindromo(frase):\n",
    "    \"\"\"Función que toma una cadena como parámetro y devuelve si es palíndromo o no.\n",
    "\n",
    "    Args:\n",
    "        frase (str): Frase para determinar si es un palíndromo o no.\n",
    "    \"\"\"\n",
    "\n",
    "    #primero pasamos la frase a una lista separada por ,:\n",
    "    lista_frase = frase.split()\n",
    "\n",
    "    #Segundo pasamos esa lista a un string sin espacios:\n",
    "    string_frase = ''.join(lista_frase)\n",
    "\n",
    "    #Tercero pasamos a minúsculas todas las letras para tener la cadena final:\n",
    "    frase_final = string_frase.lower()\n",
    "    \n",
    "    #Hacemos la comparativa entre la frase final obtenida leyéndola de izquierda a derecha (frase_final) y de derecha a izquierda (frase_final[::-1]):\n",
    "    if frase_final == frase_final [::-1]:\n",
    "        return print(f\"'{frase}' es un palíndromo porque se lee igual de izquierda a derecha que de derecha a izquierda\")\n",
    "    else:\n",
    "        return print(f\"'{frase}' no es un palíndromo porque no se lee igual de izquierda a derecha que de derecha a izquierda\")\n",
    "        "
   ]
  },
  {
   "cell_type": "code",
   "execution_count": 108,
   "metadata": {},
   "outputs": [
    {
     "name": "stdout",
     "output_type": "stream",
     "text": [
      "'Dabale arroz a la zorra el abad' es un palíndromo porque se lee igual de izquierda a derecha que de derecha a izquierda\n"
     ]
    }
   ],
   "source": [
    "palindromo(\"Dabale arroz a la zorra el abad\")"
   ]
  },
  {
   "cell_type": "markdown",
   "metadata": {},
   "source": [
    "#### 11. Escribe una función que tome una cadena como parámetro y devuelva dos valores: la cantidad de vocales y la cantidad de consonantes presentes en la cadena. Ignora los espacios y considera mayúsculas y minúsculas de manera insensible.\n"
   ]
  },
  {
   "cell_type": "code",
   "execution_count": 126,
   "metadata": {},
   "outputs": [],
   "source": [
    "def vocales_consonantes(cadena):\n",
    "    \"\"\"Función que toma una cadena y cuenta el número de vocales y de consonantes que tiene, obviando los espacios, mayúsculas y minúsculas.\n",
    "\n",
    "    Args:\n",
    "        cadena (str): Frase o palabra para contar el número total de vocales y consonantes que tiene.\n",
    "    \"\"\"\n",
    "    vocales = \"aeiouáéíóú\"\n",
    "    numero_vocales = 0\n",
    "    numero_consonantes = 0\n",
    "\n",
    "    #Primero pasamos la frase a una lista separada por ,:\n",
    "    lista_cadena = cadena.split()\n",
    "    #Segundo pasamos esa lista a un string sin espacios:\n",
    "    string_cadena = ''.join(lista_cadena)\n",
    "    #Tercero pasamos a minúsculas todas las letras para tener la cadena final:\n",
    "    cadena_final = string_cadena.lower()\n",
    "\n",
    "    for letra in cadena_final:\n",
    "        if letra in vocales:\n",
    "            numero_vocales += 1\n",
    "        else:\n",
    "            numero_consonantes += 1\n",
    "    print(f\"El número de vocales de '{cadena}' es {numero_vocales}\")\n",
    "    print(f\"El número de consonantes de '{cadena}' es {numero_consonantes}\")\n"
   ]
  },
  {
   "cell_type": "code",
   "execution_count": 127,
   "metadata": {},
   "outputs": [
    {
     "name": "stdout",
     "output_type": "stream",
     "text": [
      "El número de vocales de 'Project 0 Hackio' es 5\n",
      "El número de consonantes de 'Project 0 Hackio' es 9\n"
     ]
    }
   ],
   "source": [
    "vocales_consonantes(\"Project 0 Hackio\")"
   ]
  }
 ],
 "metadata": {
  "kernelspec": {
   "display_name": "hackio",
   "language": "python",
   "name": "python3"
  },
  "language_info": {
   "codemirror_mode": {
    "name": "ipython",
    "version": 3
   },
   "file_extension": ".py",
   "mimetype": "text/x-python",
   "name": "python",
   "nbconvert_exporter": "python",
   "pygments_lexer": "ipython3",
   "version": "3.9.6"
  }
 },
 "nbformat": 4,
 "nbformat_minor": 2
}
