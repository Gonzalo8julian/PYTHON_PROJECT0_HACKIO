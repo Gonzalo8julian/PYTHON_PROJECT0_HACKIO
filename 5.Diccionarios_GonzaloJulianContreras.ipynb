{
 "cells": [
  {
   "cell_type": "markdown",
   "metadata": {},
   "source": [
    "<div style=\"text-align: center;\">\n",
    "  <img src=\"https://github.com/Hack-io-Data/Imagenes/blob/main/01-LogosHackio/logo_celeste@4x.png?raw=true\" alt=\"logo hack(io)\" />\n",
    "</div>"
   ]
  },
  {
   "cell_type": "markdown",
   "metadata": {},
   "source": [
    "#### 1. Acceso a valores. Dado el diccionario:\n",
    "\n",
    "```python\n",
    "alumno = {\n",
    "    \"nombre\": \"Laura\",\n",
    "    \"edad\": 22,\n",
    "    \"carrera\": \"Biología\"\n",
    "}\n",
    "```\n",
    "\n",
    "1.1. Accede y muestra el valor asociado con la clave `\"nombre\"`.\n",
    "\n",
    "1.2. Accede y muestra el valor asociado con la clave `\"carrera\"`.\n"
   ]
  },
  {
   "cell_type": "code",
   "execution_count": 4,
   "metadata": {},
   "outputs": [
    {
     "name": "stdout",
     "output_type": "stream",
     "text": [
      "<class 'dict'>\n",
      "{'nombre': 'Laura', 'edad': 22, 'carrera': 'Biología'}\n"
     ]
    }
   ],
   "source": [
    "alumno =  {'nombre': \"Laura\",\n",
    "        \"edad\": 22 ,\n",
    "        \"carrera\": \"Biología\"}\n",
    "print(type(alumno))\n",
    "print(alumno)"
   ]
  },
  {
   "cell_type": "code",
   "execution_count": 17,
   "metadata": {},
   "outputs": [
    {
     "name": "stdout",
     "output_type": "stream",
     "text": [
      "Laura\n",
      "Biología\n",
      "Laura\n",
      "Biología\n"
     ]
    }
   ],
   "source": [
    "#Utilizamos la fórmula alumno.[] para mostrar el valor asociado con las claves \"nombre\" y \"carrera\". Hacemos print en cada una para que nos devuelva las dos.\n",
    "print(alumno[\"nombre\"])\n",
    "print(alumno[\"carrera\"])\n",
    "\n",
    "#También lo podemos hacer utilizando .get() para pedirle que nos muestre los valores asociados con cada clave.\n",
    "print(alumno.get(\"nombre\"))\n",
    "print(alumno.get(\"carrera\"))"
   ]
  },
  {
   "cell_type": "markdown",
   "metadata": {},
   "source": [
    "#### 2. Actualización de valores. Dado el siguiente diccionario:\n",
    "\n",
    "```python\n",
    "cuenta = {\n",
    "    \"saldo\": 1500,\n",
    "    \"moneda\": \"USD\"\n",
    "}\n",
    "```\n",
    "\n",
    "2.1. Actualiza el valor de la clave `\"saldo\"` a `2000`.\n",
    "\n",
    "2.2. Cambia el valor de `\"moneda\"` a `\"EUR\"`."
   ]
  },
  {
   "cell_type": "code",
   "execution_count": 25,
   "metadata": {},
   "outputs": [
    {
     "name": "stdout",
     "output_type": "stream",
     "text": [
      "{'saldo': 2000, 'moneda': 'USD'}\n"
     ]
    }
   ],
   "source": [
    "#Primero colocamos el diccionario \"cuenta\":\n",
    "cuenta = {\"saldo\": 1500 ,\n",
    "          \"moneda\": \"USD\"}\n",
    "\n",
    "#Ahora utilizamos .update() para actualizar el valor de la clave \"saldo\" a 2000:\n",
    "cuenta.update({\"saldo\": 2000})\n",
    "\n",
    "#También podemos hacerlo de una manera más sencilla:\n",
    "cuenta[\"saldo\"] = 2000\n",
    "\n",
    "#Hacemos print() para mostrar el diccionario actualizado\n",
    "print(cuenta)"
   ]
  },
  {
   "cell_type": "code",
   "execution_count": 24,
   "metadata": {},
   "outputs": [
    {
     "name": "stdout",
     "output_type": "stream",
     "text": [
      "{'saldo': 2000, 'moneda': 'EUR'}\n"
     ]
    }
   ],
   "source": [
    "#Volvemos a utilizar .update() para cambiar el valor de \"moneda\" a \"EUR\"\n",
    "cuenta.update({\"moneda\": \"EUR\"})\n",
    "\n",
    "#También podemos hacerlo de una manera más sencilla:\n",
    "cuenta[\"moneda\"] = \"EUR\"\n",
    "\n",
    "#Hacemos print() para mostrar los cambios (tanto de saldo, como de moneda):\n",
    "print(cuenta)"
   ]
  },
  {
   "cell_type": "markdown",
   "metadata": {},
   "source": [
    "\n",
    "#### 3. Añadir nuevas claves. Dado el diccionario:\n",
    "\n",
    "```python\n",
    "vehiculo = {\n",
    "    \"marca\": \"Ford\",\n",
    "    \"modelo\": \"Mustang\"\n",
    "}\n",
    "```\n",
    "\n",
    "3.1. Añade una nueva clave `\"año\"` con el valor `2020`.\n",
    "\n",
    "3.2. Añade una nueva clave `\"color\"` con el valor `\"rojo\"`.\n"
   ]
  },
  {
   "cell_type": "code",
   "execution_count": 28,
   "metadata": {},
   "outputs": [
    {
     "data": {
      "text/plain": [
       "{'marca': 'Ford', 'modelo': 'Mustang', 'año': 2020}"
      ]
     },
     "execution_count": 28,
     "metadata": {},
     "output_type": "execute_result"
    }
   ],
   "source": [
    "#Primero añadimos el diccionario: \n",
    "\n",
    "vehiculo = {\"marca\": \"Ford\",\n",
    "            \"modelo\": \"Mustang\"}\n",
    "\n",
    "#Ahora, añadiendo [] al diccionario añadimos la nueva clave año con el valor 2020:\n",
    "vehiculo[\"año\"] = 2020\n",
    "\n",
    "#Hacemos print para mostrarlo:\n",
    "vehiculo"
   ]
  },
  {
   "cell_type": "code",
   "execution_count": 30,
   "metadata": {},
   "outputs": [
    {
     "data": {
      "text/plain": [
       "{'marca': 'Ford', 'modelo': 'Mustang', 'año': 2020, 'color': 'rojo'}"
      ]
     },
     "execution_count": 30,
     "metadata": {},
     "output_type": "execute_result"
    }
   ],
   "source": [
    "#Repetimos el mismo método para añadir la nueva clave color, con el valor rojo:\n",
    "vehiculo[\"color\"] = \"rojo\"\n",
    "\n",
    "#Hacemos print para mostrarlo:\n",
    "vehiculo"
   ]
  },
  {
   "cell_type": "markdown",
   "metadata": {},
   "source": [
    "#### 4. Eliminar Claves. Dado el diccionario:\n",
    "\n",
    "```python\n",
    "libro = {\n",
    "    \"título\": \"Cien Años de Soledad\",\n",
    "    \"autor\": \"Gabriel García Márquez\",\n",
    "    \"páginas\": 417\n",
    "}\n",
    "```\n",
    "\n",
    "4.1. Elimina la clave `\"páginas\"`.\n",
    "\n",
    "4.2. Elimina la clave `\"título\"`.\n",
    "\n"
   ]
  },
  {
   "cell_type": "code",
   "execution_count": 32,
   "metadata": {},
   "outputs": [
    {
     "name": "stdout",
     "output_type": "stream",
     "text": [
      "{'título': 'Cien Años de Soledad', 'autor': 'Gabriel García Márquez'}\n"
     ]
    }
   ],
   "source": [
    "#Empezamos haciendo el diccionario:\n",
    "libro = {\"título\": \"Cien Años de Soledad\",\n",
    "         \"autor\": \"Gabriel García Márquez\",\n",
    "         \"páginas\": 417}\n",
    "\n",
    "#Para eliminar la clave páginas podemos hacerlo o bien con .pop y seleccionando la clave páginas:\n",
    "libro.pop(\"páginas\")\n",
    "\n",
    "#Hacemos print para verlo:\n",
    "print(libro)"
   ]
  },
  {
   "cell_type": "code",
   "execution_count": 33,
   "metadata": {},
   "outputs": [
    {
     "data": {
      "text/plain": [
       "{'título': 'Cien Años de Soledad', 'autor': 'Gabriel García Márquez'}"
      ]
     },
     "execution_count": 33,
     "metadata": {},
     "output_type": "execute_result"
    }
   ],
   "source": [
    "#O bien haciendo popitem() ya que es la última clave del diccionario:\n",
    "libro = {\"título\": \"Cien Años de Soledad\",\n",
    "         \"autor\": \"Gabriel García Márquez\",\n",
    "         \"páginas\": 417}\n",
    "\n",
    "libro.popitem()\n",
    "\n",
    "libro"
   ]
  },
  {
   "cell_type": "code",
   "execution_count": 34,
   "metadata": {},
   "outputs": [
    {
     "data": {
      "text/plain": [
       "{'autor': 'Gabriel García Márquez'}"
      ]
     },
     "execution_count": 34,
     "metadata": {},
     "output_type": "execute_result"
    }
   ],
   "source": [
    "#En este caso, para eliminar la clave título, utilizamos .pop\n",
    "libro.pop(\"título\")\n",
    "\n",
    "libro"
   ]
  },
  {
   "cell_type": "markdown",
   "metadata": {},
   "source": [
    "\n",
    "#### 5. Verificación de Existencia de Claves. Dado el diccionario:\n",
    "\n",
    "```python\n",
    "pelicula = {\n",
    "    \"título\": \"Inception\",\n",
    "    \"director\": \"Christopher Nolan\"\n",
    "}\n",
    "```\n",
    "5.1. Verifica si la clave `\"director\"` existe en el diccionario.\n",
    "\n",
    "5.2. Verifica si la clave `\"año\"` existe en el diccionario.\n"
   ]
  },
  {
   "cell_type": "code",
   "execution_count": 36,
   "metadata": {},
   "outputs": [
    {
     "data": {
      "text/plain": [
       "'Christopher Nolan'"
      ]
     },
     "execution_count": 36,
     "metadata": {},
     "output_type": "execute_result"
    }
   ],
   "source": [
    "# añadimos el diccionario:\n",
    "pelicula = {\n",
    "    \"título\": \"Inception\",\n",
    "    \"director\": \"Christopher Nolan\"\n",
    "}\n",
    "\n",
    "#Para verificar si la clave director está en el diccionario utilizamos .get y le decimos que en el caso de que no exista nos diga que no existe. Si existe nos devolverá el valor de la clave:\n",
    "pelicula.get(\"director\", \"No existe\")"
   ]
  },
  {
   "cell_type": "code",
   "execution_count": 38,
   "metadata": {},
   "outputs": [
    {
     "data": {
      "text/plain": [
       "'No existe'"
      ]
     },
     "execution_count": 38,
     "metadata": {},
     "output_type": "execute_result"
    }
   ],
   "source": [
    "#Repetimos lo mismo pero con la clave año:\n",
    "pelicula.get(\"año\", \"No existe\")"
   ]
  },
  {
   "cell_type": "markdown",
   "metadata": {},
   "source": [
    "#### 6. Uso del Método `get`. Dado el diccionario:\n",
    "\n",
    "```python\n",
    "ciudad = {\n",
    "    \"nombre\": \"París\",\n",
    "    \"país\": \"Francia\"\n",
    "}\n",
    "```\n",
    "\n",
    "6.1. Usa el método `get` para obtener el valor de la clave `\"nombre\"`.\n",
    "\n",
    "6.2. Usa el método `get` para obtener el valor de la clave `\"población\"` con un valor predeterminado `\"Desconocido\"`.\n"
   ]
  },
  {
   "cell_type": "code",
   "execution_count": 39,
   "metadata": {},
   "outputs": [
    {
     "data": {
      "text/plain": [
       "'París'"
      ]
     },
     "execution_count": 39,
     "metadata": {},
     "output_type": "execute_result"
    }
   ],
   "source": [
    "#Añadimos el diccionario:\n",
    "ciudad = {\n",
    "    \"nombre\": \"París\",\n",
    "    \"país\": \"Francia\"\n",
    "}\n",
    "\n",
    "#Utilizamos el método .get para obtener el valor de la clave nombre: \n",
    "ciudad.get(\"nombre\")"
   ]
  },
  {
   "cell_type": "code",
   "execution_count": 40,
   "metadata": {},
   "outputs": [
    {
     "data": {
      "text/plain": [
       "'Desconocido'"
      ]
     },
     "execution_count": 40,
     "metadata": {},
     "output_type": "execute_result"
    }
   ],
   "source": [
    "#Volvemos a utilizar el método .get para mostrar el valor de la clave población como desconocido:\n",
    "ciudad.get(\"población\", \"Desconocido\")"
   ]
  },
  {
   "cell_type": "code",
   "execution_count": 43,
   "metadata": {},
   "outputs": [
    {
     "data": {
      "text/plain": [
       "'Desconocido'"
      ]
     },
     "execution_count": 43,
     "metadata": {},
     "output_type": "execute_result"
    }
   ],
   "source": [
    "#En el caso de que queramos añadir un valor al diccionario, utilizaremos el método .setdefault:\n",
    "ciudad.setdefault(\"población\", \"Desconocido\")"
   ]
  },
  {
   "cell_type": "code",
   "execution_count": 44,
   "metadata": {},
   "outputs": [
    {
     "data": {
      "text/plain": [
       "{'nombre': 'París', 'país': 'Francia', 'población': 'Desconocido'}"
      ]
     },
     "execution_count": 44,
     "metadata": {},
     "output_type": "execute_result"
    }
   ],
   "source": [
    "#Hacemos print del diccionario para verificar que nos ha añadido la clave población y el valor Desconocido:\n",
    "ciudad"
   ]
  },
  {
   "cell_type": "markdown",
   "metadata": {},
   "source": [
    "#### 7. Actualización con `update`. Dado el diccionario:\n",
    "\n",
    "```python\n",
    "persona = {\n",
    "    \"nombre\": \"Miguel\",\n",
    "    \"correo\": \"miguel@example.com\"\n",
    "}\n",
    "```\n",
    "\n",
    "7.1. Usa el método `update` para añadir las claves `\"edad\"` con valor `30` y `\"teléfono\"` con valor `\"555-1234\"`.\n",
    "\n",
    "7.2. Cambia el valor de la clave `\"correo\"` usando `update`.\n"
   ]
  },
  {
   "cell_type": "code",
   "execution_count": 45,
   "metadata": {},
   "outputs": [
    {
     "data": {
      "text/plain": [
       "{'nombre': 'Miguel',\n",
       " 'correo': 'miguel@example.com',\n",
       " 'edad': 30,\n",
       " 'teléfono': '555-1234'}"
      ]
     },
     "execution_count": 45,
     "metadata": {},
     "output_type": "execute_result"
    }
   ],
   "source": [
    "#Añadimos el diccionario:\n",
    "persona = {\n",
    "    \"nombre\": \"Miguel\",\n",
    "    \"correo\": \"miguel@example.com\"\n",
    "}\n",
    "\n",
    "#Con el método .uptade añadimos las claves edad y teléfono:\n",
    "persona[\"edad\"] = 30\n",
    "persona[\"teléfono\"] = \"555-1234\"\n",
    "\n",
    "#Hacemos print para mostrarlo:\n",
    "persona"
   ]
  },
  {
   "cell_type": "code",
   "execution_count": 46,
   "metadata": {},
   "outputs": [
    {
     "data": {
      "text/plain": [
       "{'nombre': 'Miguel',\n",
       " 'correo': 'javier@hotmail.com',\n",
       " 'edad': 30,\n",
       " 'teléfono': '555-1234'}"
      ]
     },
     "execution_count": 46,
     "metadata": {},
     "output_type": "execute_result"
    }
   ],
   "source": [
    "#Repetimos el mismo proceso, pero ahora para actualizar el valor de la clave correo:\n",
    "\n",
    "persona[\"correo\"] = \"javier@hotmail.com\"\n",
    "\n",
    "#Hacemos print:\n",
    "persona\n"
   ]
  }
 ],
 "metadata": {
  "kernelspec": {
   "display_name": "hackio",
   "language": "python",
   "name": "python3"
  },
  "language_info": {
   "codemirror_mode": {
    "name": "ipython",
    "version": 3
   },
   "file_extension": ".py",
   "mimetype": "text/x-python",
   "name": "python",
   "nbconvert_exporter": "python",
   "pygments_lexer": "ipython3",
   "version": "3.9.6"
  }
 },
 "nbformat": 4,
 "nbformat_minor": 2
}
