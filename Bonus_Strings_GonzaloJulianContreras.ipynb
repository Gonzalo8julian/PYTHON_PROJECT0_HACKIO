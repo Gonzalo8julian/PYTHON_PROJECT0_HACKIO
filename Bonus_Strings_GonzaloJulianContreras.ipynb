{
 "cells": [
  {
   "cell_type": "markdown",
   "metadata": {},
   "source": [
    "<div style=\"text-align: center;\">\n",
    "  <img src=\"https://github.com/Hack-io-Data/Imagenes/blob/main/01-LogosHackio/logo_celeste@4x.png?raw=true\" alt=\"esquema\" />\n",
    "</div>"
   ]
  },
  {
   "cell_type": "markdown",
   "metadata": {},
   "source": [
    "\n",
    "#### Genera un dicionario con los nombres, apellidos y empresas de la siguinete lista de correos. \n",
    "\n",
    "Te deberá quedar un diccionario parecido al que se muestra a continuación: \n",
    "\n",
    "![resultado](https://github.com/Hack-io-Data/Imagenes/blob/main/04-Prework/Python/diccionario-bonus-strings.png?raw=true)"
   ]
  },
  {
   "cell_type": "code",
   "execution_count": 10,
   "metadata": {},
   "outputs": [],
   "source": [
    "a = \"\"\"john.doe@tecnologiainnovadora.com\n",
    "jane.doe@empresatecnologica.com\n",
    "jim.smith@solucionesdigitales.com\n",
    "mary.jane@tecnologiapionera.com\n",
    "bob.jones@innovaciontecnologica.com\n",
    "alice.smith@desarrollotecnologico.com\n",
    "tom.jones@tecnologiadinamica.com\n",
    "sally.jones@tecnologiamoderna.com\n",
    "jerry.smith@solucionestech.com\n",
    "beth.jones@tecnologiavanguardista.com\n",
    "john.smith@tecnologiasavanzadas.com\n",
    "jane.doe@empresadigital.com\n",
    "jim.jones@tecnologiadinamica.com\n",
    "mary.smith@innovaciondigital.com\n",
    "bob.doe@solucionesinformaticas.com\n",
    "\"\"\"\n"
   ]
  },
  {
   "cell_type": "markdown",
   "metadata": {},
   "source": [
    "La primera forma de hacerlo para que quede exactamente igual que se pide en el enunciado es: \n",
    "    1. Separando los mails y generando una lista de ellos a partir del método .split.\n",
    "    2. Generando 3 listas divididas por nombre, apellido y compañía. \n",
    "    3. A través de un bucle for, separamos el nombre y el dominio separado por un @, el nombre y apellido separados por un . y el nombre de la empresa y el dominio separados por un .\n",
    "    4. Añadimos cada parte a cada lista vacía creada anteriormente.\n",
    "    5. Creamos un diccionario separando nombres, apellidos y empresas."
   ]
  },
  {
   "cell_type": "code",
   "execution_count": 93,
   "metadata": {},
   "outputs": [],
   "source": [
    "mails = a.split()"
   ]
  },
  {
   "cell_type": "code",
   "execution_count": 95,
   "metadata": {},
   "outputs": [],
   "source": [
    "nombre_empleados = []\n",
    "apellido_empleados = []\n",
    "empresa_empleados = []\n",
    "\n",
    "#Siendo: nombre.apellido@dominio.pais:\n",
    "for i in mails: \n",
    "    nombre, dominio = i.split(\"@\")\n",
    "    nombre, apellido = nombre.split(\".\")\n",
    "    dominio, pais = dominio.split(\".\")\n",
    "\n",
    "    nombre_empleados.append(nombre)\n",
    "    apellido_empleados.append(apellido)\n",
    "    empresa_empleados.append(dominio)"
   ]
  },
  {
   "cell_type": "code",
   "execution_count": 94,
   "metadata": {},
   "outputs": [
    {
     "data": {
      "text/plain": [
       "{'Nombre': ['john',\n",
       "  'jane',\n",
       "  'jim',\n",
       "  'mary',\n",
       "  'bob',\n",
       "  'alice',\n",
       "  'tom',\n",
       "  'sally',\n",
       "  'jerry',\n",
       "  'beth',\n",
       "  'john',\n",
       "  'jane',\n",
       "  'jim',\n",
       "  'mary',\n",
       "  'bob'],\n",
       " 'Apellido': ['doe',\n",
       "  'doe',\n",
       "  'smith',\n",
       "  'jane',\n",
       "  'jones',\n",
       "  'smith',\n",
       "  'jones',\n",
       "  'jones',\n",
       "  'smith',\n",
       "  'jones',\n",
       "  'smith',\n",
       "  'doe',\n",
       "  'jones',\n",
       "  'smith',\n",
       "  'doe'],\n",
       " 'Empresa': ['tecnologiainnovadora',\n",
       "  'empresatecnologica',\n",
       "  'solucionesdigitales',\n",
       "  'tecnologiapionera',\n",
       "  'innovaciontecnologica',\n",
       "  'desarrollotecnologico',\n",
       "  'tecnologiadinamica',\n",
       "  'tecnologiamoderna',\n",
       "  'solucionestech',\n",
       "  'tecnologiavanguardista',\n",
       "  'tecnologiasavanzadas',\n",
       "  'empresadigital',\n",
       "  'tecnologiadinamica',\n",
       "  'innovaciondigital',\n",
       "  'solucionesinformaticas']}"
      ]
     },
     "execution_count": 94,
     "metadata": {},
     "output_type": "execute_result"
    }
   ],
   "source": [
    "informacion_empleados = {\n",
    "    \"Nombre\": nombre_empleados,\n",
    "    \"Apellido\": apellido_empleados,\n",
    "    \"Empresa\": empresa_empleados\n",
    "}\n",
    "\n",
    "informacion_empleados"
   ]
  },
  {
   "cell_type": "markdown",
   "metadata": {},
   "source": [
    "La segunda opción de hacerlo y buscando un resultado más oredenado es: \n",
    "        1. Separando los mails y generando una lista de ellos a partir del método .split.\n",
    "        2. Haciendo un bucle for dentro de la lista creada mails, y haciendo el mismo procedimiento que anteriormente.\n",
    "        3. En vez de generar listas aparte para crear el diccionario, dentro del bucle for, creamos el diccionario para que se vaya iterando entre todos los datos y poder sacar un diccionario ordenado con cada empleado con su nombre, apellido y empresa."
   ]
  },
  {
   "cell_type": "code",
   "execution_count": 82,
   "metadata": {},
   "outputs": [
    {
     "name": "stdout",
     "output_type": "stream",
     "text": [
      "{'Nombre': 'john', 'Apellido': 'doe', 'Empresa': 'tecnologiainnovadora'}\n",
      "{'Nombre': 'jane', 'Apellido': 'doe', 'Empresa': 'empresatecnologica'}\n",
      "{'Nombre': 'jim', 'Apellido': 'smith', 'Empresa': 'solucionesdigitales'}\n",
      "{'Nombre': 'mary', 'Apellido': 'jane', 'Empresa': 'tecnologiapionera'}\n",
      "{'Nombre': 'bob', 'Apellido': 'jones', 'Empresa': 'innovaciontecnologica'}\n",
      "{'Nombre': 'alice', 'Apellido': 'smith', 'Empresa': 'desarrollotecnologico'}\n",
      "{'Nombre': 'tom', 'Apellido': 'jones', 'Empresa': 'tecnologiadinamica'}\n",
      "{'Nombre': 'sally', 'Apellido': 'jones', 'Empresa': 'tecnologiamoderna'}\n",
      "{'Nombre': 'jerry', 'Apellido': 'smith', 'Empresa': 'solucionestech'}\n",
      "{'Nombre': 'beth', 'Apellido': 'jones', 'Empresa': 'tecnologiavanguardista'}\n",
      "{'Nombre': 'john', 'Apellido': 'smith', 'Empresa': 'tecnologiasavanzadas'}\n",
      "{'Nombre': 'jane', 'Apellido': 'doe', 'Empresa': 'empresadigital'}\n",
      "{'Nombre': 'jim', 'Apellido': 'jones', 'Empresa': 'tecnologiadinamica'}\n",
      "{'Nombre': 'mary', 'Apellido': 'smith', 'Empresa': 'innovaciondigital'}\n",
      "{'Nombre': 'bob', 'Apellido': 'doe', 'Empresa': 'solucionesinformaticas'}\n"
     ]
    }
   ],
   "source": [
    "diccionario_empleados = {}\n",
    "for i in mails:\n",
    "    nombre_empleado, dominio_mail = i.split(\"@\")\n",
    "    nombre_empleado, apellido_empleado = nombre_empleado.split(\".\")\n",
    "    compañia_empleado, pais_mail = dominio_mail.split(\".\")\n",
    "    diccionario_empleados = {\n",
    "        \"Nombre\": nombre_empleado,\n",
    "        \"Apellido\": apellido_empleado,\n",
    "        \"Empresa\": compañia_empleado,\n",
    "        }\n",
    "    print(diccionario_empleados)"
   ]
  }
 ],
 "metadata": {
  "kernelspec": {
   "display_name": "hackio",
   "language": "python",
   "name": "python3"
  },
  "language_info": {
   "codemirror_mode": {
    "name": "ipython",
    "version": 3
   },
   "file_extension": ".py",
   "mimetype": "text/x-python",
   "name": "python",
   "nbconvert_exporter": "python",
   "pygments_lexer": "ipython3",
   "version": "3.9.6"
  }
 },
 "nbformat": 4,
 "nbformat_minor": 2
}
